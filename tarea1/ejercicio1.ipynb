{
 "cells": [
  {
   "cell_type": "markdown",
   "id": "5b745b18",
   "metadata": {},
   "source": [
    "# Genómica Computacional\n",
    "## Tarea 1\n",
    "\n",
    "Prestegui Ramos Kevin Axel - 316201373"
   ]
  },
  {
   "cell_type": "markdown",
   "id": "7d1ea5cc",
   "metadata": {},
   "source": [
    "1. Realiza los siguientes ejercicios sobre expresiones regulares usando awk"
   ]
  },
  {
   "cell_type": "markdown",
   "id": "e48e7884",
   "metadata": {},
   "source": [
    "a) Construye una expresión que reconozca GGACC o GGTCC\n",
    "\n",
    "La siguiente expresión reconoce lo necesitado:\n",
    "\n",
    "$$/GGACC|GGTCC/$$"
   ]
  },
  {
   "cell_type": "markdown",
   "id": "2cfa33a5",
   "metadata": {},
   "source": [
    "b) Tomando en cuenta la siguiente expresion regular, r'G[AC]\\(T*|AC\\)GG', escoge las cadenas que las contienen. También escoge las cadenas que las contienen.\n",
    "1. CTTGG\n",
    "\n",
    "No la acepta pues en la segunda posición debe de hacer una A o C.\n",
    "\n",
    "2. GCTTGG\n",
    "\n",
    "Se acepta pues inicia con G, después tiene una C, seguido de dos T (aunque se puede cualquier cantidad) y termina en GG.\n",
    "\n",
    "3. GCACGG\n",
    "\n",
    "Se acepta pues inicia con G, sigue una C, se encuentra después el AC y termina con GG.\n",
    "\n",
    "4. GCAACGG  \n",
    "\n",
    "No se acepta porque en las posiciones 2 y 3 tenemos una AA, pero nosotros solo aceptamos T* o una AC."
   ]
  },
  {
   "cell_type": "markdown",
   "id": "8b61300c",
   "metadata": {},
   "source": [
    "c) Usando python reporta las posiciones en la cadena GATTATATACATAGTAGTATA donde se encuentra la expresión regular r'(TA)+'. Explica la expresión regular."
   ]
  },
  {
   "cell_type": "code",
   "execution_count": 1,
   "id": "d8abed5a",
   "metadata": {},
   "outputs": [
    {
     "name": "stdout",
     "output_type": "stream",
     "text": [
      "[3, 5, 7, 11, 14, 17, 19]\n"
     ]
    }
   ],
   "source": [
    "# Importamos la biblioteca de expresiones regulares\n",
    "import re\n",
    "# La cadena que queremos p`rocesar\n",
    "s = 'GATTATATACATAGTAGTATA'\n",
    "# Nuestra expresión regular\n",
    "exp = r'(TA)+'\n",
    "# Lista donde guardaremos las posiciones\n",
    "posiciones = []\n",
    "# Para cada match\n",
    "for m in re.finditer(exp, s):\n",
    "    # Obtenemos su posición final e inicial en la cadena s\n",
    "    i = m.start()\n",
    "    f = m.end()\n",
    "    # Y mientras aún tengamos TA en el match, seguimos agregando las posiciones\n",
    "    # pues estas subcadenas del match también tienen la forma (TA)+\n",
    "    while i< f:\n",
    "        posiciones.append(i)\n",
    "        # Aumentamos en 2, pues leímos un TA\n",
    "        i=i+2\n",
    "# Imprimimos las posiciones\n",
    "print(posiciones)"
   ]
  },
  {
   "cell_type": "markdown",
   "id": "dfeb000e",
   "metadata": {},
   "source": [
    "d) La sintaxis R{n,m} (donde R es una expresión regular válida) significa que R debe aparecer entre n y m veces. Si buscásemos la expresión r'T{3,5}' en la cadena 'GATTATTTACTTTTACAGGT' ¿En qué posiciones reportaría python encontrar dicha expresión regular?\n",
    "\n",
    "En las posiciones 5 y 10, como podemos ver en el siguiente código."
   ]
  },
  {
   "cell_type": "code",
   "execution_count": 2,
   "id": "7627cc8b",
   "metadata": {},
   "outputs": [
    {
     "name": "stdout",
     "output_type": "stream",
     "text": [
      "[5, 10]\n"
     ]
    }
   ],
   "source": [
    "# La cadena que queremos procesar\n",
    "s = 'GATTATTTACTTTTACAGGT'\n",
    "# nuestra expresión regular\n",
    "exp = r'T{3,5}'\n",
    "# Lista donde guardaremos las posiciones\n",
    "posiciones = []\n",
    "for m in re.finditer(exp, s):\n",
    "    posiciones.append(m.start())\n",
    "# Imprimimos las posiciones\n",
    "print(posiciones)"
   ]
  },
  {
   "cell_type": "markdown",
   "id": "311ae3f6",
   "metadata": {},
   "source": [
    "e) ¿Qué cadenas se describen con la expresión regular r'G.* G'? Da un par de ejemplos\n",
    "\n",
    "Son cadenas que empiezan con G, luego llevan entre 0 y n caracteres cualquiera y terminan con G, por ejemplo:\n",
    "\n",
    "1. GG\n",
    "2. GholaG\n",
    "3. G123435G\n",
    "5. G&%/()G"
   ]
  },
  {
   "cell_type": "markdown",
   "id": "a59cd722",
   "metadata": {},
   "source": []
  }
 ],
 "metadata": {
  "kernelspec": {
   "display_name": "Python 3",
   "language": "python",
   "name": "python3"
  },
  "language_info": {
   "codemirror_mode": {
    "name": "ipython",
    "version": 3
   },
   "file_extension": ".py",
   "mimetype": "text/x-python",
   "name": "python",
   "nbconvert_exporter": "python",
   "pygments_lexer": "ipython3",
   "version": "3.7.6"
  }
 },
 "nbformat": 4,
 "nbformat_minor": 5
}
