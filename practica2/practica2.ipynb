{
 "cells": [
  {
   "cell_type": "markdown",
   "metadata": {},
   "source": [
    "# Genómica Computacional: Práctica 2.\n",
    "## Facultad de Ciencias, UNAM. Semestre 2022-1.\n",
    "### Prestegui Ramos K. Axel, 316201373."
   ]
  },
  {
   "cell_type": "markdown",
   "metadata": {},
   "source": [
    "Programa que permite aplicar el 10% de descuento si la compra total es mayor a $100."
   ]
  },
  {
   "cell_type": "code",
   "execution_count": null,
   "metadata": {},
   "outputs": [],
   "source": [
    "def dame_precio_total(compra):\n",
    "    return compra*0.9 if compra > 100 else compra\n",
    "\n",
    "total = dame_precio_total(float(input('Total de compra:')))\n",
    "print('Total a pagar: {}'.format(total))"
   ]
  },
  {
   "cell_type": "markdown",
   "metadata": {},
   "source": [
    "Se sabe que la fórmula para obtener el área de un triángulo es a = (b x h) / 2, donde b es la longitud de la base del\n",
    "triángulo, y h es su altura.\n",
    "\n",
    "Este programa permite realizar el cálculo del área de un triángulo. Si el área contiene\n",
    "valores decimales, se imprime el resultado con dos dígitos."
   ]
  },
  {
   "cell_type": "code",
   "execution_count": null,
   "metadata": {},
   "outputs": [],
   "source": [
    "def area_triángulo(base, altura):\n",
    "    return (base * altura) / 2\n",
    "\n",
    "base = float(input('Base: '))\n",
    "altura = float(input('Altura: '))\n",
    "print('Área: {:0.2f}'.format(area_triángulo(base,altura)))"
   ]
  },
  {
   "cell_type": "markdown",
   "metadata": {},
   "source": [
    "La fórmula para el Índice de Masa Corportal es IMC = kg/m2 donde kg es el peso de la persona en kilogramos y m2 es la\n",
    "altura en metros al cuadrado.\n",
    "\n",
    "Este programa calcula el IMC cuando se le provee el peso y la altura."
   ]
  },
  {
   "cell_type": "code",
   "execution_count": null,
   "metadata": {},
   "outputs": [],
   "source": [
    "def calcula_imc(peso, altura):\n",
    "    \"\"\"\n",
    "    Función que calcula el IMC de una persona dada su altura en metros y peso en kg.\n",
    "    Se debe asegurar que la altura no sea cero para poder llamar esta función.\n",
    "    \"\"\"\n",
    "    return peso / altura**2\n",
    "\n",
    "peso = float(input('Peso (en kg): '))\n",
    "altura = float(input('Altura (en metros)'))\n",
    "print('Su IMC es: {}'.format(calcula_imc(peso,altura)))"
   ]
  },
  {
   "cell_type": "markdown",
   "metadata": {},
   "source": [
    "Analiza el siguiente código:\n",
    "\n",
    "```python\n",
    " 1 curso = str(input(\"Ingresa el nombre de tu curso (Genomica Computacional o Plantas I): \"))\n",
    " 2 cali_teoria = float(input(\"Ingresa tu calificación de la sección de teoría: \"))\n",
    " 3 cali_practica = float(input(\"Ingresa tu calificación de la sección de práctica: \"))\n",
    "\n",
    " 4 if(curso == \"Plantas I\" or curso == \"plantas I\"):\n",
    " 5     if(cali_teoria > 5 or cali_teoria > 5):\n",
    " 6         print(\"Por favor revisa la calificación ingresada\")\n",
    " 7     else: \n",
    " 8         print(\"Calificación válida. Tu calificación total es: \", cali_teoria + cali_practica)             \n",
    " 9 elif(curso == \"Genomica Computacional\" or curso == \"Genomica Computacional\"):\n",
    "10     if(cali_teoria > 6 or cali_practica > 4):\n",
    "11         print(\"Por favor revisa la calificación ingresada.\")\n",
    "12     else: \n",
    "13         print(\"Calificación válida. Tu calificación total es: \",cali_teoria + cali_practica)\n",
    "14 else: \n",
    "15     print(\"Curso no reconocido. Ingresa la calificación de tu curso (Plantas I o Genomica Computacional)\")\n",
    "```\n",
    "\n",
    "Contesta las siguientes preguntas:\n",
    "\n",
    "1. ¿Qué es lo que hace éste programa?\n",
    "\n",
    "Pregunta al usuario sobre su curso, ya sea Plantas I o Genómica Computacional, así como su calificación en teoría\n",
    "y en práctica.\n",
    "Luego, valida que las calificaciones sean válidas, dependiendo del curso esto significa que las calificaciones no sean ambas mayores a cinco (plantas, supongo que en este caso en el if la segunda condición era cali_practica > 5 ?) o que no sean una mayor a 6 (teoria) o la otra mayor a 4 (práctica). Si la validación es correcta, imprime su calificación.\n",
    "En caso de no reconocer el curso, se le avisa al usuario que no se ha reconocido el curso introducido.\n",
    "\n",
    "2. Explica línea por línea el programa.\n",
    "\n",
    "    1. Imprime un mensaje para pedir el nombre del curso del usuario y guarda el input de este en una cadena llamada curso.\n",
    "    2. Imprime un mensaje para pedir al usuario su calificación de teoría, hace el cast a float y lo guarda en la variable cali_teoria.\n",
    "    3. Imprime un mensaje para pedir al usuario su calificación de práctica, hace el cast a float y lo guarda en la variable cali_practica.\n",
    "    4. Valida si el curso introducido por el usuario es 'Plantas I' o 'plantas I'.\n",
    "    5. Checa si la cali_teoria o cali_practica son mayores a cinco.\n",
    "    6. En caso afirmativo en 5, se imprime como mensaje revisar la calificación que se ingresó.\n",
    "    7. En caso de que 5 no se cumpla...\n",
    "    8. ... Imprimimos un mensaje con la calificación total.\n",
    "    9. En caso de que 4 no se cumpla, se valida si el curso introducido por el usuario es 'Genómica Computacional'.\n",
    "    10. Si 9 se cumple, se chea si cali_teoria es mayor a 6 o cali_practica es mayor a 4.\n",
    "    11. En caso de que 10 se cumpla, se imprime como mensaje revisar la calificación que se ingresó.\n",
    "    12. En caso de que 10 no se cumpla...\n",
    "    13. ... Se imprime la calificación total.\n",
    "    14. En caso de que 9 no se cumpla...\n",
    "    15. Imprimimos que el curso no ha sido reconocido.\n",
    "\n",
    "3. ¿Para qué se usan los operadores or?\n",
    "\n",
    "Es un operador lógico, representa a la disyunción. Vuelven a la operación verdadera syss alguna de las premisas es verdadera."
   ]
  }
 ],
 "metadata": {
  "interpreter": {
   "hash": "40d3a090f54c6569ab1632332b64b2c03c39dcf918b08424e98f38b5ae0af88f"
  },
  "kernelspec": {
   "display_name": "Python 3.7.6 64-bit ('base': conda)",
   "language": "python",
   "name": "python3"
  },
  "language_info": {
   "codemirror_mode": {
    "name": "ipython",
    "version": 3
   },
   "file_extension": ".py",
   "mimetype": "text/x-python",
   "name": "python",
   "nbconvert_exporter": "python",
   "pygments_lexer": "ipython3",
   "version": "3.7.6"
  },
  "orig_nbformat": 4
 },
 "nbformat": 4,
 "nbformat_minor": 2
}
